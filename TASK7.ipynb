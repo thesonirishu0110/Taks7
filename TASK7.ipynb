{
 "cells": [
  {
   "cell_type": "code",
   "execution_count": 1,
   "id": "acb93a89-b620-4b9d-8d56-05e186d3347c",
   "metadata": {},
   "outputs": [],
   "source": [
    "import sqlite3\n",
    "import pandas as pd\n",
    "import matplotlib.pyplot as plt\n"
   ]
  },
  {
   "cell_type": "code",
   "execution_count": 3,
   "id": "1c7f74ce-7633-4282-9bb0-78c626f49b74",
   "metadata": {},
   "outputs": [],
   "source": [
    "# Step 1: Create the database and insert sample data\n",
    "conn = sqlite3.connect(\"sales_data.db\")\n",
    "cursor = conn.cursor()"
   ]
  },
  {
   "cell_type": "code",
   "execution_count": null,
   "id": "44654e42-4911-4d0a-b2fc-615977670aa3",
   "metadata": {},
   "outputs": [],
   "source": [
    "# Drop table if exists (for re-run safety)\n",
    "cursor.execute(\"DROP TABLE IF EXISTS sales\")\n"
   ]
  },
  {
   "cell_type": "code",
   "execution_count": 4,
   "id": "531d50b4-96e0-4a75-9f1f-3a75480edf08",
   "metadata": {},
   "outputs": [
    {
     "data": {
      "text/plain": [
       "<sqlite3.Cursor at 0x2ae646702c0>"
      ]
     },
     "execution_count": 4,
     "metadata": {},
     "output_type": "execute_result"
    }
   ],
   "source": [
    "# Create sales table\n",
    "cursor.execute(\"\"\"\n",
    "CREATE TABLE sales (\n",
    "    id INTEGER PRIMARY KEY AUTOINCREMENT,\n",
    "    product TEXT NOT NULL,\n",
    "    quantity INTEGER NOT NULL,\n",
    "    price REAL NOT NULL\n",
    ");\n",
    "\"\"\")"
   ]
  },
  {
   "cell_type": "code",
   "execution_count": 5,
   "id": "ede2b0c9-693d-46b0-8967-2790f562e9cb",
   "metadata": {},
   "outputs": [],
   "source": [
    "# Insert some sample sales data\n",
    "sample_data = [\n",
    "    (\"Apple\", 10, 1.5),\n",
    "    (\"Banana\", 5, 0.8),\n",
    "    (\"Orange\", 8, 1.2),\n",
    "    (\"Apple\", 7, 1.5),\n",
    "    (\"Banana\", 12, 0.8),\n",
    "    (\"Orange\", 3, 1.2),\n",
    "]"
   ]
  },
  {
   "cell_type": "code",
   "execution_count": 6,
   "id": "725c6580-5493-4db1-aefd-e42dacf9eee1",
   "metadata": {},
   "outputs": [],
   "source": [
    "cursor.executemany(\"INSERT INTO sales (product, quantity, price) VALUES (?, ?, ?)\", sample_data)\n",
    "conn.commit()"
   ]
  },
  {
   "cell_type": "code",
   "execution_count": 10,
   "id": "40aa0322-4ce7-4930-80bf-10c04f0740ed",
   "metadata": {},
   "outputs": [],
   "source": [
    "# Step 2: Run SQL query to get summary\n",
    "query = \"\"\"\n",
    "SELECT product, \n",
    "       SUM(quantity) AS total_qty, \n",
    "       SUM(quantity * price) AS revenue\n",
    "FROM sales\n",
    "GROUP BY product;\n",
    "\"\"\"\n",
    "\n",
    "df = pd.read_sql_query(query, conn)\n"
   ]
  },
  {
   "cell_type": "code",
   "execution_count": 9,
   "id": "d41f3011-7e86-463c-82d5-3773b72052f6",
   "metadata": {},
   "outputs": [
    {
     "name": "stdout",
     "output_type": "stream",
     "text": [
      "Sales Summary:\n",
      "\n",
      "  product  total_qty  revenue\n",
      "0   Apple         17     25.5\n",
      "1  Banana         17     13.6\n",
      "2  Orange         11     13.2\n"
     ]
    }
   ],
   "source": [
    "# Step 3: Display results\n",
    "print(\"Sales Summary:\\n\")\n",
    "print(df)\n"
   ]
  },
  {
   "cell_type": "code",
   "execution_count": 11,
   "id": "48055425-a365-4e09-90d8-a72df9a9eefe",
   "metadata": {},
   "outputs": [
    {
     "data": {
      "image/png": "[encoded data removed]",
      "text/plain": [
       "<Figure size 640x480 with 1 Axes>"
      ]
     },
     "metadata": {},
     "output_type": "display_data"
    }
   ],
   "source": [
    "# Step 4: Plot revenue by product\n",
    "df.plot(kind='bar', x='product', y='revenue', legend=False, color='skyblue')\n",
    "plt.ylabel(\"Revenue\")\n",
    "plt.title(\"Revenue per Product\")\n",
    "plt.tight_layout()\n",
    "plt.show()"
   ]
  },
  {
   "cell_type": "code",
   "execution_count": 12,
   "id": "24b8e53f-a880-4dcf-8a45-db2abc5f28b7",
   "metadata": {},
   "outputs": [],
   "source": [
    "# Close the connection\n",
    "conn.close()"
   ]
  },
  {
   "cell_type": "code",
   "execution_count": null,
   "id": "c1b6cad5-ce4d-4ccf-8abe-ea61f230a9e2",
   "metadata": {},
   "outputs": [],
   "source": []
  }
 ],
 "metadata": {
  "kernelspec": {
   "display_name": "Python 3 (ipykernel)",
   "language": "python",
   "name": "python3"
  },
  "language_info": {
   "codemirror_mode": {
    "name": "ipython",
    "version": 3
   },
   "file_extension": ".py",
   "mimetype": "text/x-python",
   "name": "python",
   "nbconvert_exporter": "python",
   "pygments_lexer": "ipython3",
   "version": "3.10.1"
  }
 },
 "nbformat": 4,
 "nbformat_minor": 5
}
